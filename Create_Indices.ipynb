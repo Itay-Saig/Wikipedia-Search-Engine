{
  "cells": [
    {
      "cell_type": "code",
      "execution_count": null,
      "id": "5ac36d3a",
      "metadata": {
        "id": "5ac36d3a",
        "nbgrader": {
          "grade": false,
          "grade_id": "cell-Worker_Count",
          "locked": true,
          "schema_version": 3,
          "solution": false,
          "task": false
        }
      },
      "outputs": [],
      "source": [
        "# if the following command generates an error, you probably didn't enable \n",
        "# the cluster security option \"Allow API access to all Google Cloud services\"\n",
        "# under Manage Security → Project Access when setting up the cluster\n",
        "!gcloud dataproc clusters list --region us-central1"
      ]
    },
    {
      "cell_type": "markdown",
      "id": "51cf86c5",
      "metadata": {
        "id": "51cf86c5"
      },
      "source": [
        "# Imports & Setup"
      ]
    },
    {
      "cell_type": "code",
      "execution_count": null,
      "id": "bf199e6a",
      "metadata": {
        "id": "bf199e6a",
        "nbgrader": {
          "grade": false,
          "grade_id": "cell-Setup",
          "locked": true,
          "schema_version": 3,
          "solution": false,
          "task": false
        },
        "outputId": "fc0e315d-21e9-411d-d69c-5b97e4e5d629"
      },
      "outputs": [
        {
          "name": "stdout",
          "output_type": "stream",
          "text": [
            "\u001b[33mWARNING: Running pip as the 'root' user can result in broken permissions and conflicting behaviour with the system package manager. It is recommended to use a virtual environment instead: https://pip.pypa.io/warnings/venv\u001b[0m\u001b[33m\n",
            "\u001b[0m\u001b[33mWARNING: Running pip as the 'root' user can result in broken permissions and conflicting behaviour with the system package manager. It is recommended to use a virtual environment instead: https://pip.pypa.io/warnings/venv\u001b[0m\u001b[33m\n",
            "\u001b[0m"
          ]
        }
      ],
      "source": [
        "!pip install -q google-cloud-storage==1.43.0\n",
        "!pip install -q graphframes"
      ]
    },
    {
      "cell_type": "code",
      "execution_count": null,
      "id": "d8f56ecd",
      "metadata": {
        "id": "d8f56ecd",
        "nbgrader": {
          "grade": false,
          "grade_id": "cell-Imports",
          "locked": true,
          "schema_version": 3,
          "solution": false,
          "task": false
        },
        "outputId": "a24aa24b-aa75-4823-83ca-1d7deef0f0de"
      },
      "outputs": [
        {
          "name": "stderr",
          "output_type": "stream",
          "text": [
            "[nltk_data] Downloading package stopwords to /root/nltk_data...\n",
            "[nltk_data]   Package stopwords is already up-to-date!\n"
          ]
        }
      ],
      "source": [
        "import pyspark\n",
        "import sys\n",
        "import math\n",
        "from collections import Counter, OrderedDict, defaultdict\n",
        "import itertools\n",
        "from itertools import islice, count, groupby\n",
        "import pandas as pd\n",
        "import os\n",
        "import re\n",
        "from operator import itemgetter\n",
        "import nltk\n",
        "from nltk.stem.porter import *\n",
        "from nltk.corpus import stopwords\n",
        "from time import time\n",
        "from pathlib import Path\n",
        "import pickle\n",
        "import pandas as pd\n",
        "from google.cloud import storage\n",
        "\n",
        "import hashlib\n",
        "def _hash(s):\n",
        "    return hashlib.blake2b(bytes(s, encoding='utf8'), digest_size=5).hexdigest()\n",
        "\n",
        "nltk.download('stopwords')\n",
        "import gcsfs"
      ]
    },
    {
      "cell_type": "code",
      "execution_count": null,
      "id": "38a897f2",
      "metadata": {
        "id": "38a897f2",
        "nbgrader": {
          "grade": false,
          "grade_id": "cell-jar",
          "locked": true,
          "schema_version": 3,
          "solution": false,
          "task": false
        },
        "outputId": "8f93a7ec-71e0-49c1-fc81-9af385849a90"
      },
      "outputs": [
        {
          "name": "stdout",
          "output_type": "stream",
          "text": [
            "-rw-r--r-- 1 root root 247882 Jan 13 12:02 /usr/lib/spark/jars/graphframes-0.8.2-spark3.1-s_2.12.jar\r\n"
          ]
        }
      ],
      "source": [
        "# if nothing prints here you forgot to include the initialization script when starting the cluster\n",
        "!ls -l /usr/lib/spark/jars/graph*"
      ]
    },
    {
      "cell_type": "code",
      "execution_count": null,
      "id": "47900073",
      "metadata": {
        "id": "47900073",
        "nbgrader": {
          "grade": false,
          "grade_id": "cell-pyspark-import",
          "locked": true,
          "schema_version": 3,
          "solution": false,
          "task": false
        }
      },
      "outputs": [],
      "source": [
        "from pyspark.sql import *\n",
        "from pyspark.sql.functions import *\n",
        "from pyspark import SparkContext, SparkConf, SparkFiles\n",
        "from pyspark.sql import SQLContext\n",
        "from graphframes import *"
      ]
    },
    {
      "cell_type": "code",
      "execution_count": null,
      "id": "72bed56b",
      "metadata": {
        "id": "72bed56b",
        "nbgrader": {
          "grade": false,
          "grade_id": "cell-spark-version",
          "locked": true,
          "schema_version": 3,
          "solution": false,
          "task": false
        },
        "outputId": "07b4e22b-a252-42fb-fe46-d9050e4e7ca8",
        "scrolled": true
      },
      "outputs": [
        {
          "data": {
            "text/html": [
              "\n",
              "            <div>\n",
              "                <p><b>SparkSession - hive</b></p>\n",
              "                \n",
              "        <div>\n",
              "            <p><b>SparkContext</b></p>\n",
              "\n",
              "            <p><a href=\"http://dakiti-m.c.ir-course-370818.internal:42771\">Spark UI</a></p>\n",
              "\n",
              "            <dl>\n",
              "              <dt>Version</dt>\n",
              "                <dd><code>v3.1.3</code></dd>\n",
              "              <dt>Master</dt>\n",
              "                <dd><code>yarn</code></dd>\n",
              "              <dt>AppName</dt>\n",
              "                <dd><code>PySparkShell</code></dd>\n",
              "            </dl>\n",
              "        </div>\n",
              "        \n",
              "            </div>\n",
              "        "
            ],
            "text/plain": [
              "<pyspark.sql.session.SparkSession at 0x7f8fb7b97cd0>"
            ]
          },
          "execution_count": 6,
          "metadata": {},
          "output_type": "execute_result"
        }
      ],
      "source": [
        "spark"
      ]
    },
    {
      "cell_type": "code",
      "execution_count": null,
      "id": "980e62a5",
      "metadata": {
        "id": "980e62a5",
        "nbgrader": {
          "grade": false,
          "grade_id": "cell-bucket_name",
          "locked": false,
          "schema_version": 3,
          "solution": true,
          "task": false
        }
      },
      "outputs": [],
      "source": [
        "bucket_name = '208906255' \n",
        "full_path = f\"gs://{bucket_name}/\"\n",
        "paths=[]\n",
        "\n",
        "client = storage.Client()\n",
        "blobs = client.list_blobs(bucket_name)\n",
        "for b in blobs:\n",
        "    if b.name != 'graphframes.sh' and b.name.startswith(\"multi\"):  # Reads only the data files and not the indices\n",
        "        paths.append(full_path+b.name)"
      ]
    },
    {
      "cell_type": "markdown",
      "id": "8c1cebf5",
      "metadata": {
        "id": "8c1cebf5"
      },
      "source": [
        "# Importing global stats"
      ]
    },
    {
      "cell_type": "code",
      "execution_count": null,
      "id": "3d4a9b52",
      "metadata": {
        "id": "3d4a9b52"
      },
      "outputs": [],
      "source": [
        "# Importing df_dict fro bucket\n",
        "file_name = 'w2df_dict.pkl'\n",
        "# Create a GCSFileSystem object\n",
        "fs = gcsfs.GCSFileSystem()\n",
        "# Open the file from the bucket\n",
        "bucket_name = '208906255'\n",
        "with fs.open(f'gs://208906255/global_stats/w2df_dict.pkl', 'rb') as f:\n",
        "    # Load the pickle file\n",
        "    w2df_dict = pickle.load(f)"
      ]
    },
    {
      "cell_type": "code",
      "execution_count": null,
      "id": "8c15a280",
      "metadata": {
        "id": "8c15a280"
      },
      "outputs": [],
      "source": [
        "# Importing dl_dict fro bucket\n",
        "file_name = 'd2dl_dict.pkl'\n",
        "# Create a GCSFileSystem object\n",
        "fs = gcsfs.GCSFileSystem()\n",
        "# Open the file from the bucket\n",
        "bucket_name = '208906255'\n",
        "with fs.open(f'gs://208906255/global_stats/d2dl_dict.pkl', 'rb') as f:\n",
        "    # Load the pickle file\n",
        "    d2dl_dict = pickle.load(f)"
      ]
    },
    {
      "cell_type": "code",
      "execution_count": null,
      "id": "7bbb57c5",
      "metadata": {
        "id": "7bbb57c5"
      },
      "outputs": [],
      "source": [
        "# Importing dl_dict fro bucket\n",
        "file_name = 'd2dl_dict.pkl'\n",
        "# Create a GCSFileSystem object\n",
        "fs = gcsfs.GCSFileSystem()\n",
        "# Open the file from the bucket\n",
        "bucket_name = '208906255'\n",
        "with fs.open(f'gs://208906255/global_stats/d2dl_dict.pkl', 'rb') as f:\n",
        "    # Load the pickle file\n",
        "    d2dl_dict = pickle.load(f)"
      ]
    },
    {
      "cell_type": "markdown",
      "id": "582c3f5e",
      "metadata": {
        "id": "582c3f5e"
      },
      "source": [
        "# Building an inverted index"
      ]
    },
    {
      "cell_type": "markdown",
      "id": "481f2044",
      "metadata": {
        "id": "481f2044"
      },
      "source": [
        "Here, we read the entire corpus to an rdd, directly from Google Storage Bucket and use your code from Colab to construct an inverted index."
      ]
    },
    {
      "cell_type": "code",
      "execution_count": null,
      "id": "e4c523e7",
      "metadata": {
        "id": "e4c523e7",
        "scrolled": false,
        "outputId": "525a17b6-af5c-418d-b783-12ed2a6f332a"
      },
      "outputs": [
        {
          "name": "stderr",
          "output_type": "stream",
          "text": [
            "                                                                                \r"
          ]
        }
      ],
      "source": [
        "parquetFile = spark.read.parquet(*paths)"
      ]
    },
    {
      "cell_type": "code",
      "execution_count": null,
      "id": "9f7be2fc",
      "metadata": {
        "id": "9f7be2fc"
      },
      "outputs": [],
      "source": [
        "doc_text_pairs = parquetFile.select(\"text\", \"id\").rdd\n",
        "doc_title_pairs = parquetFile.select(\"id\", \"title\").rdd\n",
        "doc_anchor_pairs = parquetFile.select(\"id\", \"anchor_text\").rdd"
      ]
    },
    {
      "cell_type": "code",
      "execution_count": null,
      "id": "890f1907",
      "metadata": {
        "id": "890f1907"
      },
      "outputs": [],
      "source": [
        "# Working on the id_title dictionary\n",
        "doc_title_pairs = parquetFile.select(\"id\", \"title\").rdd\n",
        "doc_title_pairs = doc_title_pairs.map(lambda x: (x.id, x.title))"
      ]
    },
    {
      "cell_type": "markdown",
      "id": "5600f037",
      "metadata": {
        "id": "5600f037"
      },
      "source": [
        "# Title Index"
      ]
    },
    {
      "cell_type": "code",
      "execution_count": null,
      "id": "231ae0f1",
      "metadata": {
        "id": "231ae0f1"
      },
      "outputs": [],
      "source": [
        "#creating title index\n",
        "doc_title_pairs = doc_title_pairs.map(lambda x: (x.id, x.title))"
      ]
    },
    {
      "cell_type": "code",
      "execution_count": null,
      "id": "35dd641e",
      "metadata": {
        "id": "35dd641e"
      },
      "outputs": [],
      "source": [
        "title_counts = doc_title_pairs.flatMap(lambda x: word_count(x[1], x[0]))"
      ]
    },
    {
      "cell_type": "code",
      "execution_count": null,
      "id": "cc46fbcf",
      "metadata": {
        "id": "cc46fbcf"
      },
      "outputs": [],
      "source": [
        "title_postings = title_counts.groupByKey().mapValues(reduce_word_counts)"
      ]
    },
    {
      "cell_type": "code",
      "execution_count": null,
      "id": "c5e4903a",
      "metadata": {
        "id": "c5e4903a"
      },
      "outputs": [],
      "source": [
        "title_w2df = calculate_df(title_postings)\n",
        "title_w2df_dict = title_w2df.collectAsMap()"
      ]
    },
    {
      "cell_type": "code",
      "execution_count": null,
      "id": "7039b1d9",
      "metadata": {
        "id": "7039b1d9"
      },
      "outputs": [],
      "source": [
        "#creating DL dictionary\n",
        "title_DL = title_counts.map(lambda x: x[1])\n",
        "title_len = title_DL.reduceByKey(lambda a,b: a+b)\n",
        "title_d2dl_dict = title_len.collectAsMap()"
      ]
    },
    {
      "cell_type": "code",
      "execution_count": null,
      "id": "0da70952",
      "metadata": {
        "id": "0da70952"
      },
      "outputs": [],
      "source": [
        "#save the title_d2dl_dict\n",
        "with open('title_d2dl_dict.pkl', 'wb') as f:\n",
        "    pickle.dump(title_d2dl_dict, f)\n",
        "title_d2dl_dict_src = \"title_d2dl_dict.pkl\"\n",
        "title_d2dl_dict_dst = f'gs://{bucket_name}/global_stats/{title_d2dl_dict_src}'  \n",
        "!gsutil cp $title_d2dl_dict_src $title_d2dl_dict_dst"
      ]
    },
    {
      "cell_type": "code",
      "execution_count": null,
      "id": "7b7dbb94",
      "metadata": {
        "id": "7b7dbb94"
      },
      "outputs": [],
      "source": [
        "# partition posting lists and write out\n",
        "_ = partition_postings_and_write(title_postings).collect()"
      ]
    },
    {
      "cell_type": "code",
      "execution_count": null,
      "id": "f7a4b881",
      "metadata": {
        "id": "f7a4b881"
      },
      "outputs": [],
      "source": [
        "def title_calculate_idf(postings):\n",
        "    return postings.map(lambda x: (x[0],math.log(N/title_w2df_dict.get(x[0],0),10)))  # Creates tuples of (word, idf) for each word\n",
        "\n",
        "def title_norm_doc(text, id):\n",
        "    tokens = [token.group() for token in RE_WORD.finditer(text.lower())]\n",
        "    filtered_words = [word for word in tokens if word not in all_stopwords]  # Filters all the stop words\n",
        "    terms_dict = Counter(filtered_words)  # Dictionary for term and its tf\n",
        "    term_tf_list = terms_dict.items()  # List of tuples of (term, tf)\n",
        "    words_id_tf_list = [((id, term_tf[0]), term_tf[1]) for term_tf in term_tf_list if title_w2df_dict.get(term_tf[0],-10) >=0 ]  #((id,term),tf)\n",
        "    tf_idf_square = list(map(lambda x: math.pow(((x[1]/title_d2dl_dict[id])*math.log(N/title_w2df_dict[x[0][1]],10)),2),words_id_tf_list)) #sum((tf-idf)^2)\n",
        "    s = 0\n",
        "    for w in tf_idf_square:\n",
        "        s += w\n",
        "    return (id,math.sqrt(s))"
      ]
    },
    {
      "cell_type": "code",
      "execution_count": null,
      "id": "d8ce00fa",
      "metadata": {
        "id": "d8ce00fa"
      },
      "outputs": [],
      "source": [
        "w2idf_title = title_calculate_idf(title_postings)\n",
        "title_w2idf_dict = w2idf_title.collectAsMap()"
      ]
    },
    {
      "cell_type": "code",
      "execution_count": null,
      "id": "80222a30",
      "metadata": {
        "id": "80222a30"
      },
      "outputs": [],
      "source": [
        "# save the title_d2dl_dict\n",
        "with open('title_w2idf_dict.pkl', 'wb') as f:\n",
        "    pickle.dump(title_w2idf_dict, f)\n",
        "title_w2idf_dict_src = \"title_w2idf_dict.pkl\"\n",
        "title_w2idf_dict_dst = f'gs://{bucket_name}/global_stats/{title_w2idf_dict_src}'  \n",
        "!gsutil cp $title_w2idf_dict_src $title_w2idf_dict_dst"
      ]
    },
    {
      "cell_type": "code",
      "execution_count": null,
      "id": "f031bd21",
      "metadata": {
        "id": "f031bd21"
      },
      "outputs": [],
      "source": [
        "# collect all posting lists locations into one super-set\n",
        "super_posting_locs = defaultdict(list)\n",
        "for blob in client.list_blobs(bucket_name, prefix='title_index'):\n",
        "    if not blob.name.endswith(\"pickle\"):\n",
        "        continue\n",
        "    with blob.open(\"rb\") as f:\n",
        "        posting_locs = pickle.load(f)\n",
        "        for k, v in posting_locs.items():\n",
        "            super_posting_locs[k].extend(v)"
      ]
    },
    {
      "cell_type": "code",
      "execution_count": null,
      "id": "59b9e2e9",
      "metadata": {
        "id": "59b9e2e9"
      },
      "outputs": [],
      "source": [
        "# Create inverted index instance\n",
        "inverted = InvertedIndex()\n",
        "# Adding the posting locations dictionary to the inverted index\n",
        "inverted.posting_locs = super_posting_locs\n",
        "# Add the token - df dictionary to the inverted index\n",
        "inverted.df = title_w2df_dict\n",
        "\n",
        "inverted.write_index('.', 'title_index')\n",
        "# upload to gs\n",
        "index_src = \"title_index.pkl\"\n",
        "index_dst = f'gs://{bucket_name}/title_index/{index_src}'\n",
        "\n",
        "!gsutil cp $index_src $index_dst"
      ]
    },
    {
      "cell_type": "code",
      "execution_count": null,
      "id": "9871a123",
      "metadata": {
        "id": "9871a123"
      },
      "outputs": [],
      "source": [
        "title_norm2doc =  doc_title_pairs.map(lambda x: title_norm_doc(x[1], x[0]))\n",
        "title_norm2doc_dict = title_norm2doc.collectAsMap()"
      ]
    },
    {
      "cell_type": "code",
      "execution_count": null,
      "id": "cd3d8524",
      "metadata": {
        "id": "cd3d8524"
      },
      "outputs": [],
      "source": [
        "# save the title_d2dl_dict\n",
        "with open('title_norm2doc_dict.pkl', 'wb') as f:\n",
        "    pickle.dump(title_norm2doc_dict, f)\n",
        "title_norm2doc_dict_src = \"title_norm2doc_dict.pkl\"\n",
        "title_norm2doc_dict_dst = f'gs://{bucket_name}/global_stats/{title_norm2doc_dict_src}'  \n",
        "!gsutil cp $title_norm2doc_dict_src $title_norm2doc_dict_dst"
      ]
    },
    {
      "cell_type": "markdown",
      "id": "50c4068f",
      "metadata": {
        "id": "50c4068f"
      },
      "source": [
        "# Anchor index"
      ]
    },
    {
      "cell_type": "code",
      "execution_count": null,
      "id": "432d9464",
      "metadata": {
        "id": "432d9464"
      },
      "outputs": [],
      "source": [
        "#creating anchor index\n",
        "anchor_id_text = doc_anchor_pairs.flatMap(lambda x: x.anchor_text)\n",
        "id_text = anchor_id_text.map(lambda x: (x.text, x.id))\n",
        "anchor_counts = id_text.flatMap(lambda x: word_count(x[0], x[1]))\n",
        "# Example: [('political', (23040, 1)), ('philosophy', (23040, 1)), ('movement', (99232, 1))]\n",
        "anchor_postings = anchor_counts.groupByKey().mapValues(reduce_word_counts)"
      ]
    },
    {
      "cell_type": "code",
      "execution_count": null,
      "id": "f34aaba6",
      "metadata": {
        "id": "f34aaba6",
        "outputId": "fb4fce1e-8ba5-414b-f2c2-57926925af23"
      },
      "outputs": [
        {
          "name": "stderr",
          "output_type": "stream",
          "text": [
            "                                                                                \r"
          ]
        }
      ],
      "source": [
        "anchor_w2df = calculate_df(anchor_postings)\n",
        "anchor_w2df_dict = anchor_w2df.collectAsMap()"
      ]
    },
    {
      "cell_type": "code",
      "execution_count": null,
      "id": "d9c9affd",
      "metadata": {
        "id": "d9c9affd",
        "outputId": "9d27070c-e09e-4482-ad0a-cba97d6baf63"
      },
      "outputs": [
        {
          "name": "stderr",
          "output_type": "stream",
          "text": [
            "                                                                                \r"
          ]
        }
      ],
      "source": [
        "_ = partition_postings_and_write(anchor_postings).collect()"
      ]
    },
    {
      "cell_type": "code",
      "execution_count": null,
      "id": "4f0fd678",
      "metadata": {
        "id": "4f0fd678"
      },
      "outputs": [],
      "source": [
        "# collect all posting lists locations into one super-set\n",
        "super_posting_locs = defaultdict(list)\n",
        "for blob in client.list_blobs(bucket_name, prefix='anchor_index'):\n",
        "    if not blob.name.endswith(\"pickle\"):\n",
        "        continue\n",
        "    with blob.open(\"rb\") as f:\n",
        "        posting_locs = pickle.load(f)\n",
        "        for k, v in posting_locs.items():\n",
        "            super_posting_locs[k].extend(v)"
      ]
    },
    {
      "cell_type": "code",
      "execution_count": null,
      "id": "f065050a",
      "metadata": {
        "id": "f065050a",
        "outputId": "a2b459dc-a048-4caf-d6d2-f9a4a9a59fdd"
      },
      "outputs": [
        {
          "name": "stdout",
          "output_type": "stream",
          "text": [
            "Copying file://anchor_index.pkl [Content-Type=application/octet-stream]...\n",
            "\\ [1 files][ 95.1 MiB/ 95.1 MiB]                                                \n",
            "Operation completed over 1 objects/95.1 MiB.                                     \n"
          ]
        }
      ],
      "source": [
        "# Create inverted index instance\n",
        "inverted = InvertedIndex()\n",
        "# Adding the posting locations dictionary to the inverted index\n",
        "inverted.posting_locs = super_posting_locs\n",
        "# Add the token - df dictionary to the inverted index\n",
        "inverted.df = anchor_w2df_dict\n",
        "\n",
        "inverted.write_index('.', 'anchor_index')\n",
        "# upload to gs\n",
        "index_src = \"anchor_index.pkl\"\n",
        "\n",
        "index_dst = f'gs://{bucket_name}/anchor_index/{index_src}'\n",
        "\n",
        "!gsutil cp $index_src $index_dst"
      ]
    },
    {
      "cell_type": "markdown",
      "id": "0d7e2971",
      "metadata": {
        "id": "0d7e2971"
      },
      "source": [
        "We will count the number of pages to make sure we are looking at the entire corpus. The number of pages should be more than 6M"
      ]
    },
    {
      "cell_type": "code",
      "execution_count": null,
      "id": "82881fbf",
      "metadata": {
        "id": "82881fbf"
      },
      "outputs": [],
      "source": [
        "# Count number of wiki pages\n",
        "N = parquetFile.count()"
      ]
    },
    {
      "cell_type": "markdown",
      "id": "701811af",
      "metadata": {
        "id": "701811af"
      },
      "source": [
        "import the inverted index module"
      ]
    },
    {
      "cell_type": "code",
      "execution_count": null,
      "id": "121fe102",
      "metadata": {
        "id": "121fe102",
        "outputId": "327fe81b-80f4-4b3a-8894-e74720d92e35"
      },
      "outputs": [
        {
          "name": "stdout",
          "output_type": "stream",
          "text": [
            "inverted_index_gcp.py\r\n"
          ]
        }
      ],
      "source": [
        "# if nothing prints here you forgot to upload the file inverted_index_gcp.py to the home dir\n",
        "%cd -q /home/dataproc\n",
        "!ls inverted_index_gcp.py"
      ]
    },
    {
      "cell_type": "code",
      "execution_count": null,
      "id": "57c101a8",
      "metadata": {
        "id": "57c101a8",
        "scrolled": true
      },
      "outputs": [],
      "source": [
        "# adding our python module to the cluster\n",
        "sc.addFile(\"/home/dataproc/inverted_index_gcp.py\")\n",
        "sys.path.insert(0,SparkFiles.getRootDirectory())"
      ]
    },
    {
      "cell_type": "code",
      "execution_count": null,
      "id": "c259c402",
      "metadata": {
        "id": "c259c402"
      },
      "outputs": [],
      "source": [
        "from inverted_index_gcp import InvertedIndex"
      ]
    },
    {
      "cell_type": "code",
      "execution_count": null,
      "id": "f3ad8fea",
      "metadata": {
        "id": "f3ad8fea",
        "nbgrader": {
          "grade": false,
          "grade_id": "cell-token2bucket",
          "locked": false,
          "schema_version": 3,
          "solution": true,
          "task": false
        }
      },
      "outputs": [],
      "source": [
        "english_stopwords = frozenset(stopwords.words('english'))\n",
        "corpus_stopwords = [\"category\", \"references\", \"also\", \"external\", \"links\", \n",
        "                    \"may\", \"first\", \"see\", \"history\", \"people\", \"one\", \"two\", \n",
        "                    \"part\", \"thumb\", \"including\", \"second\", \"following\", \n",
        "                    \"many\", \"however\", \"would\", \"became\"]\n",
        "\n",
        "all_stopwords = english_stopwords.union(corpus_stopwords)\n",
        "RE_WORD = re.compile(r\"\"\"[\\#\\@\\w](['\\-]?\\w){2,24}\"\"\", re.UNICODE)\n",
        "\n",
        "NUM_BUCKETS = 124\n",
        "def token2bucket_id(token,offset=1):\n",
        "    return int(_hash(token),16) % NUM_BUCKETS + (NUM_BUCKETS*offset)\n",
        "\n",
        "def word_count(text, id):\n",
        "    tokens = [token.group() for token in RE_WORD.finditer(text.lower())]\n",
        "\n",
        "    filtered_words = [word for word in tokens if word not in all_stopwords]  # Filters all the stop words\n",
        "    terms_dict = Counter(filtered_words)  # Dictionary for term and its tf\n",
        "    term_tf_list = terms_dict.items()  # List of tuples of (term, tf)\n",
        "    words_id_tf_list = [(term_tf[0], (id, term_tf[1])) for term_tf in term_tf_list]\n",
        "\n",
        "    return words_id_tf_list\n",
        "\n",
        "def reduce_word_counts(unsorted_pl):\n",
        "    return sorted(unsorted_pl)\n",
        "\n",
        "def calculate_df(postings):\n",
        "    return postings.map(lambda x: (x[0], len(x[1])))  # Creates tuples of (word, df) for each word\n",
        "\n",
        "def partition_postings_and_write(postings):\n",
        "    postings_buckets = postings.map(lambda x: (token2bucket_id(x[0]), x))  # (bucket_id, [(w0, posting_list_0), (w1, posting_list_1), ...]) \n",
        "    postings_buckets = postings_buckets.groupByKey()  # Group tuples with identical keys\n",
        "    posting_lists_by_buckets = postings_buckets.map(lambda x: (x[0], list(x[1])))\n",
        "    word_location = posting_lists_by_buckets.map(lambda x: InvertedIndex.write_a_posting_list(x, bucket_name))\n",
        "\n",
        "    return word_location\n",
        "\n",
        "def calculate_idf(postings):\n",
        "    return postings.map(lambda x: (x[0],math.log(N/w2df_dict.get(x[0],0),10)))  # Creates tuples of (word, idf) for each word\n",
        "\n",
        "\n",
        "def norm_doc(text, id):\n",
        "    tokens = [token.group() for token in RE_WORD.finditer(text.lower())]\n",
        "    filtered_words = [word for word in tokens if word not in all_stopwords]  # Filters all the stop words\n",
        "    terms_dict = Counter(filtered_words)  # Dictionary for term and its tf\n",
        "    term_tf_list = terms_dict.items()  # List of tuples of (term, tf)\n",
        "    words_id_tf_list = [((id, term_tf[0]), term_tf[1]) for term_tf in term_tf_list if w2df_dict.get(term_tf[0],-10) >=0 ]  #((id,term),tf)\n",
        "    tf_idf_square = list(map(lambda x: math.pow(((x[1]/d2dl_dict[id])*math.log(N/w2df_dict[x[0][1]],10)),2),words_id_tf_list)) #sum((tf-idf)^2)\n",
        "    s = 0\n",
        "    for w in tf_idf_square:\n",
        "        s += w\n",
        "    return (id,math.sqrt(s))"
      ]
    },
    {
      "cell_type": "code",
      "execution_count": null,
      "id": "3882c20d",
      "metadata": {
        "id": "3882c20d"
      },
      "outputs": [],
      "source": [
        "#continue creating the global dictionary of id_title\n",
        "title_counts = doc_title_pairs.flatMap(lambda x: word_count(x[1], x[0]))"
      ]
    },
    {
      "cell_type": "code",
      "execution_count": null,
      "id": "85b698fe",
      "metadata": {
        "id": "85b698fe"
      },
      "outputs": [],
      "source": [
        "#continue creating the global dictionary of id_title\n",
        "id2title_dict = doc_title_pairs.collectAsMap()"
      ]
    },
    {
      "cell_type": "code",
      "execution_count": null,
      "id": "7b2dac0d",
      "metadata": {
        "id": "7b2dac0d"
      },
      "outputs": [],
      "source": [
        "# #save the id2title_dicts\n",
        "# with open('id2title_dict.pkl', 'wb') as f:\n",
        "#     pickle.dump(id2title_dict, f)\n",
        "# id_title_src = \"id2title_dict.pkl\"\n",
        "# id_title_dst = f'gs://{bucket_name}/global_stats/{id_title_src}'  \n",
        "# !gsutil cp $id_title_src $id_title_dst"
      ]
    },
    {
      "cell_type": "code",
      "execution_count": null,
      "id": "55c8764e",
      "metadata": {
        "id": "55c8764e",
        "nbgrader": {
          "grade": false,
          "grade_id": "cell-index_construction",
          "locked": false,
          "schema_version": 3,
          "solution": true,
          "task": false
        }
      },
      "outputs": [],
      "source": [
        "# time the index creation time\n",
        "t_start = time()\n",
        "# word counts map\n",
        "word_counts = doc_text_pairs.flatMap(lambda x: word_count(x[0], x[1]))\n",
        "postings = word_counts.groupByKey().mapValues(reduce_word_counts)\n",
        "# filtering postings and calculate df\n",
        "postings_filtered = postings.filter(lambda x: len(x[1])>50)\n",
        "w2df = calculate_df(postings_filtered)\n",
        "w2df_dict = w2df.collectAsMap()\n",
        "# partition posting lists and write out\n",
        "# _ = partition_postings_and_write(postings_filtered).collect()\n",
        "index_const_time = time() - t_start"
      ]
    },
    {
      "cell_type": "code",
      "execution_count": null,
      "id": "749a2240",
      "metadata": {
        "id": "749a2240"
      },
      "outputs": [],
      "source": [
        "#creating DL dictionary\n",
        "word_counts = doc_text_pairs.flatMap(lambda x: word_count(x[0], x[1]))\n",
        "doc_DL = word_counts.map(lambda x: x[1])\n",
        "doc_len = doc_DL.reduceByKey(lambda a,b: a+b)\n",
        "d2dl_dict = doc_len.collectAsMap()"
      ]
    },
    {
      "cell_type": "code",
      "execution_count": null,
      "id": "9356d9da",
      "metadata": {
        "id": "9356d9da"
      },
      "outputs": [],
      "source": [
        "# save the d2dl_dict\n",
        "# with open('d2dl_dict.pkl', 'wb') as f:\n",
        "#     pickle.dump(d2dl_dict, f)\n",
        "# d2dl_dict_src = \"d2dl_dict.pkl\"\n",
        "# d2dl_dict_dst = f'gs://{bucket_name}/global_stats/{d2dl_dict_src}'  \n",
        "# !gsutil cp $d2dl_dict_src $d2dl_dict_dst"
      ]
    },
    {
      "cell_type": "code",
      "execution_count": null,
      "id": "fe4dd613",
      "metadata": {
        "id": "fe4dd613"
      },
      "outputs": [],
      "source": [
        "# save the wtdf_dict\n",
        "# with open('w2df_dict.pkl', 'wb') as f:\n",
        "#     pickle.dump(w2df_dict, f)\n",
        "# w2df_dict_src = \"w2df_dict.pkl\"\n",
        "# w2df_dict_dst = f'gs://{bucket_name}/global_stats/{w2df_dict_src}'  \n",
        "# !gsutil cp $w2df_dict_src $w2df_dict_dst"
      ]
    },
    {
      "cell_type": "code",
      "execution_count": null,
      "id": "3dbc0e14",
      "metadata": {
        "id": "3dbc0e14",
        "nbgrader": {
          "grade": true,
          "grade_id": "cell-index_const_time",
          "locked": true,
          "points": 10,
          "schema_version": 3,
          "solution": false,
          "task": false
        }
      },
      "outputs": [],
      "source": [
        "# test index construction time\n",
        "assert index_const_time < 60*120"
      ]
    },
    {
      "cell_type": "code",
      "execution_count": null,
      "id": "ab3296f4",
      "metadata": {
        "id": "ab3296f4",
        "nbgrader": {
          "grade": true,
          "grade_id": "collect-posting",
          "locked": true,
          "points": 0,
          "schema_version": 3,
          "solution": false,
          "task": false
        }
      },
      "outputs": [],
      "source": [
        "# collect all posting lists locations into one super-set\n",
        "super_posting_locs = defaultdict(list)\n",
        "for blob in client.list_blobs(bucket_name, prefix='title_postings'): ##name of prefix is n\n",
        "    if not blob.name.endswith(\"pickle\"):\n",
        "        continue\n",
        "    with blob.open(\"rb\") as f:\n",
        "        posting_locs = pickle.load(f)\n",
        "        for k, v in posting_locs.items():\n",
        "            super_posting_locs[k].extend(v)"
      ]
    },
    {
      "cell_type": "markdown",
      "id": "f6f66e3a",
      "metadata": {
        "id": "f6f66e3a"
      },
      "source": [
        "Putting it all together"
      ]
    },
    {
      "cell_type": "code",
      "execution_count": null,
      "id": "a5d2cfb6",
      "metadata": {
        "id": "a5d2cfb6"
      },
      "outputs": [],
      "source": [
        "# Create inverted index instance\n",
        "inverted = InvertedIndex()\n",
        "# Adding the posting locations dictionary to the inverted index\n",
        "inverted.posting_locs = super_posting_locs\n",
        "# Add the token - df dictionary to the inverted index\n",
        "# inverted.df = w2df_dict\n",
        "# write the global stats out\n",
        "# inverted.write_index('.', 'index')\n",
        "# inverted.write_index('.', 'body_index')  # we added this line\n",
        "# inverted.write_index('.', 'title_index')  # we added this line\n",
        "inverted.write_index('.', 'anchor_index')  # we added this line\n",
        "\n",
        "# upload to gs\n",
        "# index_src = \"title_index.pkl\"\n",
        "# index_src = \"body_index.pkl\"  # we added this line\n",
        "# index_src = \"title_index.pkl\"  # we added this line\n",
        "index_src = \"anchor_index.pkl\"  # we added this line\n",
        "index_dst = f'gs://{bucket_name}/anchor_postings/{index_src}'  # we added this line. need to create new bucket and put its name instead of postings_gcp\n",
        "\n",
        "\n",
        "!gsutil cp $index_src $index_dst"
      ]
    },
    {
      "cell_type": "code",
      "execution_count": null,
      "id": "8f880d59",
      "metadata": {
        "id": "8f880d59",
        "nbgrader": {
          "grade": false,
          "grade_id": "cell-index_dst_size",
          "locked": true,
          "schema_version": 3,
          "solution": false,
          "task": false
        }
      },
      "outputs": [],
      "source": [
        "!gsutil ls -lh $index_dst"
      ]
    },
    {
      "cell_type": "code",
      "execution_count": null,
      "id": "78e263e4",
      "metadata": {
        "id": "78e263e4"
      },
      "outputs": [],
      "source": [
        "##########################  ###########################"
      ]
    },
    {
      "cell_type": "markdown",
      "source": [
        "DOC-Norm dictionary for cosine similarity"
      ],
      "metadata": {
        "id": "4x8vjblPk6EV"
      },
      "id": "4x8vjblPk6EV"
    },
    {
      "cell_type": "code",
      "execution_count": null,
      "id": "8e6d58aa",
      "metadata": {
        "id": "8e6d58aa"
      },
      "outputs": [],
      "source": [
        " doc_text_pairs = parquetFile.select(\"text\", \"id\").rdd"
      ]
    },
    {
      "cell_type": "code",
      "execution_count": null,
      "id": "9c8fe0e1",
      "metadata": {
        "id": "9c8fe0e1"
      },
      "outputs": [],
      "source": [
        "norm2doc =  doc_text_pairs.map(lambda x: norm_doc(x[0], x[1]))\n",
        "norm2doc_dict = norm2doc.collectAsMap()"
      ]
    },
    {
      "cell_type": "code",
      "execution_count": null,
      "id": "81b3dbdc",
      "metadata": {
        "id": "81b3dbdc"
      },
      "outputs": [],
      "source": [
        "# save the norm_dict\n",
        "with open('norm2doc_dict.pkl', 'wb') as f:\n",
        "ןגכnorm2doc_dict_src = \"norm2doc_dict.pkl\"\n",
        "norm2doc_dict_dst = f'gs://{bucket_name}/global_stats/{norm2doc_dict_src}'  \n",
        "!gsutil cp $norm2doc_dict_src $norm2doc_dict_dst"
      ]
    },
    {
      "cell_type": "code",
      "execution_count": null,
      "id": "dd5207a2",
      "metadata": {
        "id": "dd5207a2"
      },
      "outputs": [],
      "source": [
        "word_counts = doc_text_pairs.flatMap(lambda x: word_count(x[0], x[1]))\n",
        "postings = word_counts.groupByKey().mapValues(reduce_word_counts)\n",
        "postings_filtered = postings.filter(lambda x: len(x[1])>50)\n",
        "w2idf = calculate_idf(postings_filtered)\n",
        "w2idf_dict = w2idf.collectAsMap()"
      ]
    },
    {
      "cell_type": "code",
      "execution_count": null,
      "id": "400f2bfe",
      "metadata": {
        "id": "400f2bfe"
      },
      "outputs": [],
      "source": [
        "# save the w2idf_dict\n",
        "with open('w2idf_dict.pkl', 'wb') as f:\n",
        "    pickle.dump(w2idf_dict, f)\n",
        "w2idf_dict_src = \"w2idf_dict.pkl\"\n",
        "w2idf_dict_dst = f'gs://{bucket_name}/global_stats/{w2idf_dict_src}'  \n",
        "!gsutil cp $w2idf_dict_src $w2idf_dict_dst"
      ]
    },
    {
      "cell_type": "markdown",
      "id": "fc9ea295",
      "metadata": {
        "id": "fc9ea295"
      },
      "source": [
        "# Importing Indices"
      ]
    },
    {
      "cell_type": "code",
      "execution_count": null,
      "id": "3f313fc0",
      "metadata": {
        "id": "3f313fc0"
      },
      "outputs": [],
      "source": [
        "# Importing Body Index from Bucket \n",
        "file_name = 'index.pkl'\n",
        "# Create a GCSFileSystem object\n",
        "fs = gcsfs.GCSFileSystem()\n",
        "# Open the file from the bucket\n",
        "bucket_name = '208906255'\n",
        "with fs.open(f'gs://208906255/postings_gcp/index.pkl', 'rb') as f:\n",
        "    # Load the pickle file\n",
        "    body_index = pickle.load(f)"
      ]
    },
    {
      "cell_type": "code",
      "execution_count": null,
      "id": "c243baa8",
      "metadata": {
        "id": "c243baa8"
      },
      "outputs": [],
      "source": [
        "# Importing Anchor Index from Bucket \n",
        "file_name = 'anchor_index.pkl'\n",
        "# Create a GCSFileSystem object\n",
        "fs = gcsfs.GCSFileSystem()\n",
        "# Open the file from the bucket\n",
        "bucket_name = '208906255'\n",
        "with fs.open(f'gs://208906255/anchor_index/anchor_index.pkl', 'rb') as f:\n",
        "    # Load the pickle file\n",
        "    anchor_index = pickle.load(f)"
      ]
    },
    {
      "cell_type": "code",
      "execution_count": null,
      "id": "37be329f",
      "metadata": {
        "id": "37be329f"
      },
      "outputs": [],
      "source": [
        "# Importing Title Index from Bucket \n",
        "file_name = 'title_index.pkl'\n",
        "# Create a GCSFileSystem object\n",
        "fs = gcsfs.GCSFileSystem()\n",
        "# Open the file from the bucket\n",
        "bucket_name = '208906255'\n",
        "with fs.open(f'gs://208906255/title_index/title_index.pkl', 'rb') as f:\n",
        "    # Load the pickle file\n",
        "    title_index = pickle.load(f)"
      ]
    },
    {
      "cell_type": "markdown",
      "id": "0875c6bd",
      "metadata": {
        "id": "0875c6bd",
        "nbgrader": {
          "grade": false,
          "grade_id": "cell-2fee4bc8d83c1e2a",
          "locked": true,
          "schema_version": 3,
          "solution": false,
          "task": false
        }
      },
      "source": [
        "Page Rank"
      ]
    },
    {
      "cell_type": "code",
      "execution_count": null,
      "id": "31a516e2",
      "metadata": {
        "id": "31a516e2"
      },
      "outputs": [],
      "source": [
        "# Put your `generate_graph` function here\n",
        "def generate_graph(pages):\n",
        "    edges = pages.flatMap(lambda page: [(page[0], anchor_text[0]) for anchor_text in page[1]])  # Tuples of (page_id, anchor page_id)\n",
        "    edges = edges.distinct()  # Removes all the duplicates\n",
        "    vertices = edges.flatMap(lambda id: id)\n",
        "    vertices = vertices.distinct()  # Removes all the duplicates\n",
        "    vertices = vertices.map(lambda id: [id])\n",
        "\n",
        "    return edges, vertices"
      ]
    },
    {
      "cell_type": "code",
      "execution_count": null,
      "id": "6bc05ba3",
      "metadata": {
        "id": "6bc05ba3",
        "nbgrader": {
          "grade": false,
          "grade_id": "cell-PageRank",
          "locked": false,
          "schema_version": 3,
          "solution": true,
          "task": false
        }
      },
      "outputs": [],
      "source": [
        "t_start = time()\n",
        "pages_links = spark.read.parquet(\"gs://wikidata_preprocessed/*\").select(\"id\", \"anchor_text\").rdd\n",
        "# construct the graph \n",
        "edges, vertices = generate_graph(pages_links)\n",
        "# compute PageRank\n",
        "edgesDF = edges.toDF(['src', 'dst']).repartition(124, 'src')\n",
        "verticesDF = vertices.toDF(['id']).repartition(124, 'id')\n",
        "g = GraphFrame(verticesDF, edgesDF)\n",
        "pr_results = g.pageRank(resetProbability=0.15, maxIter=6)\n",
        "pr = pr_results.vertices.select(\"id\", \"pagerank\")\n",
        "pr = pr.sort(col('pagerank').desc())\n",
        "pr.repartition(1).write.csv(f'gs://{bucket_name}/pr', compression=\"gzip\")\n",
        "pr_time = time() - t_start\n",
        "pr.show()"
      ]
    },
    {
      "cell_type": "code",
      "execution_count": null,
      "id": "f7717604",
      "metadata": {
        "id": "f7717604",
        "nbgrader": {
          "grade": true,
          "grade_id": "cell-PageRank_time",
          "locked": true,
          "points": 10,
          "schema_version": 3,
          "solution": false,
          "task": false
        }
      },
      "outputs": [],
      "source": [
        "# test that PageRank computaion took less than 1 hour\n",
        "assert pr_time < 60*60"
      ]
    },
    {
      "cell_type": "markdown",
      "id": "96e9a610",
      "metadata": {
        "id": "96e9a610"
      },
      "source": [
        "# Reporting"
      ]
    },
    {
      "cell_type": "code",
      "execution_count": null,
      "id": "0f0d5523",
      "metadata": {
        "id": "0f0d5523",
        "nbgrader": {
          "grade": false,
          "grade_id": "cell-size_ofi_input_data",
          "locked": true,
          "schema_version": 3,
          "solution": false,
          "task": false
        }
      },
      "outputs": [],
      "source": [
        "# size of input data\n",
        "!gsutil du -sh \"gs://wikidata_preprocessed/\""
      ]
    },
    {
      "cell_type": "code",
      "execution_count": null,
      "id": "ce25a98a",
      "metadata": {
        "id": "ce25a98a",
        "nbgrader": {
          "grade": false,
          "grade_id": "cell-size_of_index_data",
          "locked": true,
          "schema_version": 3,
          "solution": false,
          "task": false
        }
      },
      "outputs": [],
      "source": [
        "# size of index data\n",
        "index_dst = f'gs://{bucket_name}/postings_gcp/'\n",
        "!gsutil du -sh \"$index_dst\""
      ]
    },
    {
      "cell_type": "code",
      "execution_count": null,
      "id": "7a9538ee",
      "metadata": {
        "id": "7a9538ee",
        "nbgrader": {
          "grade": false,
          "grade_id": "cell-credits",
          "locked": true,
          "schema_version": 3,
          "solution": false,
          "task": false
        }
      },
      "outputs": [],
      "source": [
        "# How many USD credits did you use in GCP during the course of this assignment?\n",
        "cost = 0 \n",
        "print(f'I used {cost} USD credit during the course of this assignment')"
      ]
    },
    {
      "cell_type": "code",
      "execution_count": null,
      "id": "b8157868",
      "metadata": {
        "nbgrader": {
          "grade": false,
          "grade_id": "cell-PageRank_Bonus",
          "locked": false,
          "schema_version": 3,
          "solution": true,
          "task": false
        },
        "id": "b8157868"
      },
      "outputs": [],
      "source": [
        "#If you have decided to do the bonus task - please copy the code here \n",
        "\n",
        "bonus_flag = False # Turn flag on (True) if you have implemented this part\n",
        "\n",
        "t_start = time()\n",
        "\n",
        "# PLACE YOUR CODE HERE\n",
        "\n",
        "pr_time_Bonus = time() - t_start\n"
      ]
    },
    {
      "cell_type": "code",
      "execution_count": null,
      "id": "855f9c94",
      "metadata": {
        "nbgrader": {
          "grade": true,
          "grade_id": "cell-PageRank_Bonus-time",
          "locked": true,
          "points": 10,
          "schema_version": 3,
          "solution": false,
          "task": false
        },
        "id": "855f9c94"
      },
      "outputs": [],
      "source": [
        "# Note:test that PageRank computaion took less than 1 hour\n",
        "assert pr_time_Bonus < 60*60 and bonus_flag"
      ]
    }
  ],
  "metadata": {
    "celltoolbar": "Create Assignment",
    "colab": {
      "provenance": [],
      "toc_visible": true
    },
    "kernelspec": {
      "display_name": "PySpark",
      "language": "python",
      "name": "pyspark"
    },
    "language_info": {
      "codemirror_mode": {
        "name": "ipython",
        "version": 3
      },
      "file_extension": ".py",
      "mimetype": "text/x-python",
      "name": "python",
      "nbconvert_exporter": "python",
      "pygments_lexer": "ipython3",
      "version": "3.8.15"
    }
  },
  "nbformat": 4,
  "nbformat_minor": 5
}