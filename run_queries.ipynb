{
  "nbformat": 4,
  "nbformat_minor": 0,
  "metadata": {
    "colab": {
      "provenance": []
    },
    "kernelspec": {
      "name": "python3",
      "display_name": "Python 3"
    },
    "language_info": {
      "name": "python"
    }
  },
  "cells": [
    {
      "cell_type": "code",
      "source": [
        "import json\n",
        "with open('new_train.json', 'rt') as f:\n",
        "  queries = json.load(f)"
      ],
      "metadata": {
        "id": "j-AKcFLAFYh5"
      },
      "execution_count": 2,
      "outputs": []
    },
    {
      "cell_type": "code",
      "source": [
        "# import requests\n",
        "res = requests.post('http://35.238.179.93:8080//get_pagerank', json=[44406800])"
      ],
      "metadata": {
        "id": "G7oW5NBbTHiD"
      },
      "execution_count": 73,
      "outputs": []
    },
    {
      "cell_type": "code",
      "source": [
        "res = requests.get('http://35.238.179.93:8080//search?query=Winter').json()"
      ],
      "metadata": {
        "id": "67BzVA9gH9GS"
      },
      "execution_count": 21,
      "outputs": []
    },
    {
      "cell_type": "code",
      "source": [
        "# import requests\n",
        "# res = requests.post('http://35.238.179.93:8080//get_pageview', json=[44406800])"
      ],
      "metadata": {
        "id": "kANdkdY_EtRi"
      },
      "execution_count": 75,
      "outputs": []
    },
    {
      "cell_type": "code",
      "source": [
        "# res.json()"
      ],
      "metadata": {
        "colab": {
          "base_uri": "https://localhost:8080/"
        },
        "id": "SuFKmAs2F2Mf",
        "outputId": "d88fa96c-6544-4a92-84a9-47250bcd7c50"
      },
      "execution_count": 76,
      "outputs": [
        {
          "output_type": "execute_result",
          "data": {
            "text/plain": [
              "[0]"
            ]
          },
          "metadata": {},
          "execution_count": 76
        }
      ]
    },
    {
      "cell_type": "code",
      "source": [
        "def average_precision(true_list, predicted_list, k=40):\n",
        "    true_set = frozenset(true_list)\n",
        "    predicted_list = predicted_list[:k]\n",
        "    precisions = []\n",
        "    for i,doc_id in enumerate(predicted_list):        \n",
        "        if doc_id in true_set:\n",
        "            prec = (len(precisions)+1) / (i+1)        \n",
        "            precisions.append(prec)  \n",
        "    if len(precisions) == 0:\n",
        "        return 0.0\n",
        "    return round(sum(precisions)/len(precisions),3)"
      ],
      "metadata": {
        "id": "PyN2ilR2FaC_"
      },
      "execution_count": 3,
      "outputs": []
    },
    {
      "cell_type": "code",
      "execution_count": 22,
      "metadata": {
        "id": "oLttvdZ9EnUR",
        "colab": {
          "base_uri": "https://localhost:8080/"
        },
        "outputId": "2fd99b06-54f3-4d2a-cdfa-b5fffa671471"
      },
      "outputs": [
        {
          "output_type": "stream",
          "name": "stdout",
          "text": [
            "!\n",
            "!\n",
            "!\n",
            "!\n",
            "!\n",
            "!\n",
            "!\n",
            "!\n",
            "!\n",
            "!\n",
            "!\n",
            "!\n",
            "!\n",
            "!\n",
            "!\n",
            "!\n",
            "!\n",
            "!\n",
            "!\n",
            "!\n",
            "!\n",
            "!\n",
            "!\n",
            "!\n",
            "!\n",
            "!\n",
            "!\n",
            "!\n",
            "!\n",
            "!\n"
          ]
        }
      ],
      "source": [
        "import requests\n",
        "from time import time\n",
        "url = 'http://35.238.179.93:8080/'\n",
        "# place the domain you got from ngrok or GCP IP below. \n",
        "# url = '35.238.179.93'\n",
        "\n",
        "qs_res = []\n",
        "for q, true_wids in queries.items():\n",
        "  duration, ap = None, None\n",
        "  t_start = time()\n",
        "  try:\n",
        "    print(\"!\")\n",
        "    res = requests.get(url + '/search', {'query': q}, timeout=35)\n",
        "    duration = time() - t_start\n",
        "    if res.status_code == 200:\n",
        "      pred_wids, _ = zip(*res.json())\n",
        "      ap = average_precision(true_wids, pred_wids)\n",
        "  except:\n",
        "    pass\n",
        "  qs_res.append((q, duration, ap))"
      ]
    },
    {
      "cell_type": "code",
      "source": [
        "scores = []\n",
        "times = []\n",
        "for tup in qs_res:\n",
        "  if tup[2] is not None:\n",
        "    scores.append(tup[2])\n",
        "  if tup[1] is not None:\n",
        "    times.append(tup[1])"
      ],
      "metadata": {
        "id": "EC8mnnBWVHR5"
      },
      "execution_count": 23,
      "outputs": []
    },
    {
      "cell_type": "code",
      "source": [
        "qs_res"
      ],
      "metadata": {
        "colab": {
          "base_uri": "https://localhost:8080/"
        },
        "id": "Act6hJWAFyBJ",
        "outputId": "18c0fba8-93fe-4bf3-c762-7511594ffdc7"
      },
      "execution_count": 24,
      "outputs": [
        {
          "output_type": "execute_result",
          "data": {
            "text/plain": [
              "[('best marvel movie', 0.24222445487976074, 0.0),\n",
              " ('How do kids come to world?', 0.5653464794158936, 0.0),\n",
              " ('Information retrieval', 0.0814812183380127, 1.0),\n",
              " ('LinkedIn', 0.053557634353637695, 1.0),\n",
              " ('How to make coffee?', 0.06258583068847656, 0.75),\n",
              " ('Ritalin', 0.05371403694152832, 1.0),\n",
              " ('How to make wine at home?', 0.11813688278198242, 0.75),\n",
              " ('Most expensive city in the world', 1.1287486553192139, 0.333),\n",
              " ('India', 0.11949944496154785, 1.0),\n",
              " ('how to make money fast?', 0.07543754577636719, 0.417),\n",
              " ('Netflix', 0.054533958435058594, 0.887),\n",
              " ('Apple computer', 0.0897665023803711, 0.7),\n",
              " ('The Simpsons', 0.05708479881286621, 0.917),\n",
              " ('World cup', 0.9131550788879395, 1.0),\n",
              " ('How to lose weight?', 0.06045818328857422, 0.0),\n",
              " ('Java', 0.0591588020324707, 0.5),\n",
              " ('Air Jordan', 0.18395018577575684, 1.0),\n",
              " ('how to deal with depression?', 0.06190013885498047, 0.5),\n",
              " ('How do you make gold', 0.09031391143798828, 1.0),\n",
              " ('Marijuana', 0.056002140045166016, 0.25),\n",
              " ('How to make hummus', 0.05533289909362793, 0.833),\n",
              " ('Winter', 0.12518882751464844, 0.806),\n",
              " ('Rick and Morty', 0.07278704643249512, 1.0),\n",
              " ('Natural Language processing', 0.19383883476257324, 1.0),\n",
              " ('World Cup 2022', 1.232048511505127, 1.0),\n",
              " ('Dolly the sheep', 0.06323814392089844, 1.0),\n",
              " ('Cigarettes', 0.055016517639160156, 0.0),\n",
              " ('What is the best place to live in?', 0.2532641887664795, 0.0),\n",
              " ('Elon musk', 0.0583958625793457, 0.756),\n",
              " ('How do you breed flowers?', 0.06441068649291992, 0.0)]"
            ]
          },
          "metadata": {},
          "execution_count": 24
        }
      ]
    },
    {
      "cell_type": "code",
      "source": [
        "print(\"avg score: \"+str(sum(scores)/30) + \" avg time: \"+ str(sum(times)/30))"
      ],
      "metadata": {
        "colab": {
          "base_uri": "https://localhost:8080/"
        },
        "id": "BmdJgLaEWMVl",
        "outputId": "e7adf55a-380c-4135-c738-41876b231d31"
      },
      "execution_count": 25,
      "outputs": [
        {
          "output_type": "stream",
          "name": "stdout",
          "text": [
            "avg score: 0.6466333333333334 avg time: 0.21001924673716227\n"
          ]
        }
      ]
    }
  ]
}